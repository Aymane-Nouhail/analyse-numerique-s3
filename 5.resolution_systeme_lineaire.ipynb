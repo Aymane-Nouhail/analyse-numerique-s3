{
 "cells": [
  {
   "cell_type": "code",
   "execution_count": 2,
   "metadata": {},
   "outputs": [],
   "source": [
    "import numpy as np\n",
    "from scipy import integrate"
   ]
  },
  {
   "cell_type": "code",
   "execution_count": 3,
   "metadata": {},
   "outputs": [
    {
     "name": "stdout",
     "output_type": "stream",
     "text": [
      "[[ 1.          0.          0.        ]\n",
      " [-0.5         1.          0.        ]\n",
      " [ 0.         -0.66666667  1.        ]] \n",
      " [[ 2.         -1.          0.        ]\n",
      " [ 0.          1.5        -1.        ]\n",
      " [ 0.          0.          1.33333333]]\n",
      "[[ 2. -1.  0.]\n",
      " [-1.  2. -1.]\n",
      " [ 0. -1.  2.]]\n"
     ]
    }
   ],
   "source": [
    "def LU(A):\n",
    "    n = len(A)\n",
    "    L,U = np.identity(n,dtype=float), np.array(A,dtype=float)\n",
    "    for i in range(n-1):\n",
    "        for k in range(i+1,n):\n",
    "            a = U[k][i] / U[i][i]\n",
    "            L[k][i] = a\n",
    "            U[k] = U[k] - a*U[i]\n",
    "    return L,U\n",
    " \n",
    "A=np.array([[2,-1,0],\n",
    "            [-1,2,-1]\n",
    "            ,[0,-1,2]])\n",
    "L, U = LU(A)\n",
    "print(L,\"\\n\", U)\n",
    "print(L@U)\n",
    "\n"
   ]
  },
  {
   "cell_type": "code",
   "execution_count": 4,
   "metadata": {},
   "outputs": [
    {
     "name": "stdout",
     "output_type": "stream",
     "text": [
      "[9. 8.]\n"
     ]
    }
   ],
   "source": [
    "def systemeInferieure(L,b):\n",
    "    n = len(L)\n",
    "    X = np.zeros(n)\n",
    "    for i in range(n):\n",
    "        sum = 0\n",
    "        for j in range(i):\n",
    "            sum += L[i][j] * X[j]\n",
    "        X[i] = (b[i] - sum)/L[i][i]\n",
    "    return X\n",
    "\n",
    "L = np.array([[1,0]\n",
    "             ,[7,8]])\n",
    "b = np.array([9,8])\n",
    "X = systemeInferieure(L,b)\n",
    "print(L @ X)"
   ]
  },
  {
   "cell_type": "code",
   "execution_count": 5,
   "metadata": {},
   "outputs": [
    {
     "name": "stdout",
     "output_type": "stream",
     "text": [
      "[10.  8.  9.]\n"
     ]
    }
   ],
   "source": [
    "def systemeSuperieure(U,b):\n",
    "    n = len(U)\n",
    "    X = np.zeros(n)\n",
    "    for i in range(n)[::-1]:\n",
    "        sum = 0\n",
    "        for j in range(i+1,n):\n",
    "            sum += U[i][j] * X[j]\n",
    "        X[i] = (b[i] - sum)/U[i][i] \n",
    "    return X\n",
    "\n",
    "U = np.array([[100,9,2]\n",
    "             ,[0,7,10],\n",
    "              [0,0,4]])\n",
    "b = np.array([10,8,9])\n",
    "X = systemeSuperieure(U,b)\n",
    "print(U @ X)\n"
   ]
  },
  {
   "cell_type": "code",
   "execution_count": 6,
   "metadata": {},
   "outputs": [
    {
     "name": "stdout",
     "output_type": "stream",
     "text": [
      "[24. 27. -6.]\n",
      "[1. 1. 0.]\n"
     ]
    }
   ],
   "source": [
    "def resolutionLU(A,b):\n",
    "    L, U = LU(A)\n",
    "    Y = systemeInferieure(L,b)\n",
    "    X = systemeSuperieure(U,Y)\n",
    "    return X\n",
    "\n",
    "A = np.array([[18,6,-6],\n",
    "             [6,21,0],\n",
    "             [-6,0,15]])\n",
    "b = [24,27,-6]\n",
    "X = resolutionLU(A,b)\n",
    "print(A @ X)\n",
    "print(X)"
   ]
  },
  {
   "cell_type": "code",
   "execution_count": 21,
   "metadata": {},
   "outputs": [
    {
     "name": "stdout",
     "output_type": "stream",
     "text": [
      "[-0.00682594  0.03754266  0.33105802]\n"
     ]
    }
   ],
   "source": [
    "def Jacobi2(A,b,x0,k):\n",
    "    n = len(A)\n",
    "    M = A.diagonal()\n",
    "    M = [1/M[i] for i in range(n)]\n",
    "    M = np.diag(M)\n",
    "    N = -np.array(A)\n",
    "    np.fill_diagonal(N,0)\n",
    "    for i in range(k):\n",
    "        x0 = M@(N @ x0 + b)\n",
    "    return x0\n",
    "A = np.array([[10,2,3],\n",
    "             [10,11,5],\n",
    "             [8,2,9]])\n",
    "b = [1,2,3]\n",
    "Xj = Jacobi(A,b,np.array([1,1,1]),200)\n",
    "print(Xj)"
   ]
  },
  {
   "cell_type": "code",
   "execution_count": 27,
   "metadata": {},
   "outputs": [
    {
     "name": "stdout",
     "output_type": "stream",
     "text": [
      "[1. 2. 3.]\n"
     ]
    }
   ],
   "source": [
    "def Jacobi(A,b,x0,k):\n",
    "    n=len(A)\n",
    "    xk = x0\n",
    "    xkeep = np.zeros(n)\n",
    "    for _ in range(k):\n",
    "        for i in range(n):\n",
    "            s = sum(A[i][j]*xk[j] for j in range(n) if j!=i)\n",
    "            xkeep[i] = 1/A[i][i] * (b[i]-s)\n",
    "        xk = xkeep\n",
    "    return xk\n",
    "Xj=Jacobi(A,b,np.array([1,1,1]),300)\n",
    "print(A@Xj)"
   ]
  },
  {
   "cell_type": "code",
   "execution_count": 25,
   "metadata": {},
   "outputs": [
    {
     "name": "stdout",
     "output_type": "stream",
     "text": [
      "[1. 2. 3.]\n"
     ]
    }
   ],
   "source": [
    "def GaussSeidel(A,b,x0,k) :\n",
    "    n=len(x0)\n",
    "    xk=x0\n",
    "    xkeep=np.zeros(n)\n",
    "    for _ in range(k):\n",
    "        for i in range(n):\n",
    "            s1 = sum(A[i][j]*xk[j] for j in range(i+1,n))\n",
    "            s2 = sum(A[i][j]*xkeep[j] for j in range(i))\n",
    "            xkeep[i] = 1/A[i][i] * (b[i]-s1-s2)\n",
    "        xk=xkeep\n",
    "    return xk\n",
    "Xj=GaussSeidel(A,b,np.array([1,1,1]),300)\n",
    "print(A@Xj)"
   ]
  },
  {
   "cell_type": "code",
   "execution_count": 26,
   "metadata": {},
   "outputs": [
    {
     "name": "stdout",
     "output_type": "stream",
     "text": [
      "[1. 2. 3.]\n"
     ]
    }
   ],
   "source": [
    "def Gradient(A,b,x0,k):\n",
    "    xk=x0\n",
    "    for i in range(k):\n",
    "        xk=(np.eye(n,dtype=float)-alpha@A)@xk+alpha*b\n",
    "    return xk\n",
    "Xj=GaussSeidel(A,b,np.array([1,1,1]),300)\n",
    "print(A@Xj)"
   ]
  },
  {
   "cell_type": "markdown",
   "metadata": {},
   "source": []
  }
 ],
 "metadata": {
  "kernelspec": {
   "display_name": "Python 3.9.12 ('base')",
   "language": "python",
   "name": "python3"
  },
  "language_info": {
   "codemirror_mode": {
    "name": "ipython",
    "version": 3
   },
   "file_extension": ".py",
   "mimetype": "text/x-python",
   "name": "python",
   "nbconvert_exporter": "python",
   "pygments_lexer": "ipython3",
   "version": "3.9.12"
  },
  "orig_nbformat": 4,
  "vscode": {
   "interpreter": {
    "hash": "b302cdd1e032ee910f5c889c3360c28564c92ad4f326fc3102e39fbe47faee66"
   }
  }
 },
 "nbformat": 4,
 "nbformat_minor": 2
}
