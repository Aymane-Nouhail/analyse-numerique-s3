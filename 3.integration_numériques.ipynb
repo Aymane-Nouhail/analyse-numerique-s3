{
 "cells": [
  {
   "cell_type": "code",
   "execution_count": 4,
   "metadata": {},
   "outputs": [],
   "source": [
    "import numpy as np\n",
    "from scipy import integrate"
   ]
  },
  {
   "cell_type": "code",
   "execution_count": 5,
   "metadata": {},
   "outputs": [],
   "source": [
    "def RectangleGauche(f,a,b,n):\n",
    "    h = (b-a)/n\n",
    "    ak = a\n",
    "    res = 0\n",
    "    for i in range(n):\n",
    "        res += f(ak)\n",
    "        ak += h\n",
    "    return h * res\n"
   ]
  },
  {
   "cell_type": "code",
   "execution_count": 6,
   "metadata": {},
   "outputs": [],
   "source": [
    "def RectangleDroite(f,a,b,n):\n",
    "    h = (b-a)/n\n",
    "    ak = a\n",
    "    res = 0\n",
    "    for i in range(n):\n",
    "        ak += h\n",
    "        res += f(ak)\n",
    "    return h * res"
   ]
  },
  {
   "cell_type": "code",
   "execution_count": 7,
   "metadata": {},
   "outputs": [],
   "source": [
    "def Trapeze(f,a,b,n):\n",
    "    res = (f(a) + f(b))/2\n",
    "    h = (b-a)/n\n",
    "    ak = a\n",
    "    for i in range(n-1):\n",
    "        ak += h\n",
    "        res += f(ak)\n",
    "    return h * res"
   ]
  },
  {
   "cell_type": "code",
   "execution_count": 8,
   "metadata": {},
   "outputs": [],
   "source": [
    "def Simpson(f,a,b,n):\n",
    "    h = (b-a)/n\n",
    "    ak = a\n",
    "    zk = a + h/2\n",
    "    res1 = 0 \n",
    "    res2 =  f(zk)\n",
    "    for i in range(n-1):\n",
    "        ak += h\n",
    "        res1 += f(ak)\n",
    "        zk += h\n",
    "        res2 += f(zk)\n",
    "    return (h / 6) * (f(a) + f(b) + 2*res1 + 4*res2)"
   ]
  },
  {
   "cell_type": "code",
   "execution_count": 9,
   "metadata": {},
   "outputs": [
    {
     "name": "stdout",
     "output_type": "stream",
     "text": [
      "Rectangle Gauche :  0.8575866841545734\n",
      "Rectangle Droite :  0.8536519907516997\n",
      "Trapeze :  0.8556193374531366\n",
      "Simpson :  0.8556243918963607\n",
      "Integrate.quad :  (0.855624391892149, 9.499339003095619e-15)\n"
     ]
    }
   ],
   "source": [
    "def f(x):\n",
    "    return np.exp((-x**2)/2)\n",
    "\n",
    "print(\"Rectangle Gauche : \",RectangleGauche(f,0,1,100))\n",
    "print(\"Rectangle Droite : \",RectangleDroite(f,0,1,100))\n",
    "print(\"Trapeze : \",Trapeze(f,0,1,100))\n",
    "print(\"Simpson : \",Simpson(f,0,1,100))\n",
    "print(\"Integrate.quad : \",integrate.quad(f,0,1))\n"
   ]
  },
  {
   "cell_type": "code",
   "execution_count": 10,
   "metadata": {},
   "outputs": [],
   "source": [
    "\n",
    "def NombreNecessaire(f,a,b,Err,Methode):\n",
    "    true_integral = integrate.quad(f,a,b)[0]\n",
    "    iter = 1\n",
    "    if Methode == \"Rectangle Gauche\" :\n",
    "        while abs(RectangleGauche(f,a,b,iter) - true_integral) > Err:\n",
    "            iter += 1\n",
    "        return iter\n",
    "    elif Methode == \"Rectangle Droite\" :\n",
    "        while abs(RectangleDroite(f,a,b,iter) - true_integral) > Err:\n",
    "            iter +=1\n",
    "        return iter\n",
    "    elif Methode == \"Trapeze\" : \n",
    "        while abs(Trapeze(f,a,b,iter) - true_integral) > Err:\n",
    "            iter +=1\n",
    "        return iter\n",
    "    elif Methode == \"Simpson\" : \n",
    "        while abs(Simpson(f,a,b,iter) - true_integral) > Err:\n",
    "            iter +=1\n",
    "        return iter\n",
    "    else :\n",
    "        return -1\n"
   ]
  },
  {
   "cell_type": "code",
   "execution_count": 11,
   "metadata": {},
   "outputs": [
    {
     "name": "stdout",
     "output_type": "stream",
     "text": [
      "197\n",
      "197\n",
      "8\n",
      "1\n"
     ]
    }
   ],
   "source": [
    "print(NombreNecessaire(f,0,1,10**(-3),\"Rectangle Gauche\"))\n",
    "print(NombreNecessaire(f,0,1,10**(-3),\"Rectangle Droite\"))\n",
    "print(NombreNecessaire(f,0,1,10**(-3),\"Trapeze\"))\n",
    "print(NombreNecessaire(f,0,1,10**(-3),\"Simpson\"))"
   ]
  }
 ],
 "metadata": {
  "kernelspec": {
   "display_name": "Python 3.9.12 ('base')",
   "language": "python",
   "name": "python3"
  },
  "language_info": {
   "codemirror_mode": {
    "name": "ipython",
    "version": 3
   },
   "file_extension": ".py",
   "mimetype": "text/x-python",
   "name": "python",
   "nbconvert_exporter": "python",
   "pygments_lexer": "ipython3",
   "version": "3.9.12"
  },
  "orig_nbformat": 4,
  "vscode": {
   "interpreter": {
    "hash": "b302cdd1e032ee910f5c889c3360c28564c92ad4f326fc3102e39fbe47faee66"
   }
  }
 },
 "nbformat": 4,
 "nbformat_minor": 2
}
